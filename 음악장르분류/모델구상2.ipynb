{
  "cells": [
    {
      "cell_type": "markdown",
      "metadata": {
        "id": "CtaJIzjRY8L2"
      },
      "source": [
        "# 음악 장르 분류기 _ Music Genre Classification\n",
        "- 우리 팀이 원하는 음원 데이터를 가져와서 훈련시킬 것\n",
        "    - 음원 데이터 구하는 방법 : Youtube에서 음원 추출 및 저장\n",
        "        - 멜론에서 장르별로 최소 100개씩 검색해보고 일치하는 값 가져오기\n",
        "    - 각 음원의 30초 or 1분만 사용 (like 미리듣기)\n",
        "        - 각 데이터를 일정 시간으로 쪼개서 부풀리기 (GTZAN에서는 3초를 기준으로 쪼갬)"
      ]
    },
    {
      "cell_type": "code",
      "execution_count": 1,
      "metadata": {
        "id": "7GBem3jxHlIK"
      },
      "outputs": [],
      "source": [
        "# 필요한 패키지 임포트\n",
        "import pandas as pd\n",
        "import numpy as np\n",
        "import seaborn as sns\n",
        "import matplotlib.pyplot as plt\n",
        "%matplotlib inline\n",
        "import sklearn\n",
        "\n",
        "# Librosa for 음원 분석\n",
        "import librosa\n",
        "import librosa.display\n",
        "import IPython.display as ipd\n",
        "import warnings\n",
        "warnings.filterwarnings('ignore')"
      ]
    },
    {
      "cell_type": "markdown",
      "metadata": {
        "id": "yVUwxCVLZ9cR"
      },
      "source": [
        "## 음원 파일 불러오기\n",
        "- `import os`\n",
        "- `general_path = ~~`"
      ]
    },
    {
      "cell_type": "code",
      "execution_count": 45,
      "metadata": {
        "id": "C8VIKBwtM4nx"
      },
      "outputs": [],
      "source": [
        "import os\n",
        "file_path = \"/Users/wonsiyeon/Library/project_crescendo\"\n",
        "files = list(os.listdir(f'{file_path}/음악파일/'))     # 음원 파일명"
      ]
    },
    {
      "cell_type": "code",
      "execution_count": 47,
      "metadata": {},
      "outputs": [
        {
          "name": "stdout",
          "output_type": "stream",
          "text": [
            "['Don’tTrustTheDawn.mp3', 'goodmorning.mp3', 'TimeLapse.mp3', 'Wildflower.mp3', 'GoodBye.mp3']\n"
          ]
        }
      ],
      "source": [
        "songs = [song for song in files if 'mp3' in song]\n",
        "print(songs)"
      ]
    },
    {
      "cell_type": "markdown",
      "metadata": {
        "id": "1X-fXQIyaDTX"
      },
      "source": [
        "## 음원 분리하기 \n",
        "- `spleeter` 라이브러리 활용하기\n",
        "- vocal.wav\n",
        "- accompaniment.wav\n",
        "    > - 추후 후자의 파일만 이용에 음원 분석하기\n",
        "    > - 분리된 음원 저장 or 재로드시 인덱스 값 붙여서 제목 변경하기"
      ]
    },
    {
      "cell_type": "code",
      "execution_count": 34,
      "metadata": {
        "colab": {
          "base_uri": "https://localhost:8080/",
          "height": 1000
        },
        "id": "11xkM2mzHepP",
        "outputId": "ca493a6a-4401-479c-cb2e-ab1a424d181f"
      },
      "outputs": [
        {
          "name": "stdout",
          "output_type": "stream",
          "text": [
            "Collecting spleeter\n",
            "  Downloading spleeter-2.3.0-py3-none-any.whl (51 kB)\n",
            "\u001b[K     |████████████████████████████████| 51 kB 2.8 MB/s eta 0:00:011\n",
            "\u001b[?25hCollecting numpy<1.20.0,>=1.16.0\n",
            "  Downloading numpy-1.19.5-cp38-cp38-macosx_10_9_x86_64.whl (15.6 MB)\n",
            "\u001b[K     |████████████████████████████████| 15.6 MB 4.9 MB/s eta 0:00:01\n",
            "\u001b[?25hCollecting ffmpeg-python==0.2.0\n",
            "  Downloading ffmpeg_python-0.2.0-py3-none-any.whl (25 kB)\n",
            "Collecting norbert==0.2.1\n",
            "  Downloading norbert-0.2.1-py2.py3-none-any.whl (11 kB)\n",
            "Requirement already satisfied: pandas<2.0.0,>=1.1.2 in /Users/wonsiyeon/opt/anaconda3/envs/name/lib/python3.8/site-packages (from spleeter) (1.4.1)\n",
            "Collecting typer<0.4.0,>=0.3.2\n",
            "  Downloading typer-0.3.2-py3-none-any.whl (21 kB)\n",
            "Collecting httpx[http2]<0.20.0,>=0.19.0\n",
            "  Downloading httpx-0.19.0-py3-none-any.whl (77 kB)\n",
            "\u001b[K     |████████████████████████████████| 77 kB 479 kB/s eta 0:00:011\n",
            "\u001b[?25hCollecting tensorflow==2.5.0\n",
            "  Downloading tensorflow-2.5.0-cp38-cp38-macosx_10_11_x86_64.whl (195.7 MB)\n",
            "\u001b[K     |████████████████████████████████| 195.7 MB 9.3 MB/s eta 0:00:011   |█▊                              | 10.9 MB 6.2 MB/s eta 0:00:30\n",
            "\u001b[?25hCollecting librosa==0.8.0\n",
            "  Downloading librosa-0.8.0.tar.gz (183 kB)\n",
            "\u001b[K     |████████████████████████████████| 183 kB 9.1 MB/s eta 0:00:01\n",
            "\u001b[?25hCollecting llvmlite<0.37.0,>=0.36.0\n",
            "  Downloading llvmlite-0.36.0-cp38-cp38-macosx_10_9_x86_64.whl (18.5 MB)\n",
            "\u001b[K     |████████████████████████████████| 18.5 MB 6.4 MB/s eta 0:00:011\n",
            "\u001b[?25hCollecting future\n",
            "  Downloading future-0.18.2.tar.gz (829 kB)\n",
            "\u001b[K     |████████████████████████████████| 829 kB 6.6 MB/s eta 0:00:01\n",
            "\u001b[?25hRequirement already satisfied: audioread>=2.0.0 in /Users/wonsiyeon/opt/anaconda3/envs/name/lib/python3.8/site-packages (from librosa==0.8.0->spleeter) (2.1.9)\n",
            "Requirement already satisfied: scipy>=1.0.0 in /Users/wonsiyeon/opt/anaconda3/envs/name/lib/python3.8/site-packages (from librosa==0.8.0->spleeter) (1.7.3)\n",
            "Requirement already satisfied: scikit-learn!=0.19.0,>=0.14.0 in /Users/wonsiyeon/opt/anaconda3/envs/name/lib/python3.8/site-packages (from librosa==0.8.0->spleeter) (1.0.2)\n",
            "Requirement already satisfied: joblib>=0.14 in /Users/wonsiyeon/opt/anaconda3/envs/name/lib/python3.8/site-packages (from librosa==0.8.0->spleeter) (1.1.0)\n",
            "Requirement already satisfied: decorator>=3.0.0 in /Users/wonsiyeon/opt/anaconda3/envs/name/lib/python3.8/site-packages (from librosa==0.8.0->spleeter) (5.1.1)\n",
            "Requirement already satisfied: resampy>=0.2.2 in /Users/wonsiyeon/opt/anaconda3/envs/name/lib/python3.8/site-packages (from librosa==0.8.0->spleeter) (0.2.2)\n",
            "Requirement already satisfied: numba>=0.43.0 in /Users/wonsiyeon/opt/anaconda3/envs/name/lib/python3.8/site-packages (from librosa==0.8.0->spleeter) (0.55.1)\n",
            "Requirement already satisfied: soundfile>=0.9.0 in /Users/wonsiyeon/opt/anaconda3/envs/name/lib/python3.8/site-packages (from librosa==0.8.0->spleeter) (0.10.3.post1)\n",
            "Requirement already satisfied: pooch>=1.0 in /Users/wonsiyeon/opt/anaconda3/envs/name/lib/python3.8/site-packages (from librosa==0.8.0->spleeter) (1.6.0)\n",
            "Collecting typing-extensions~=3.7.4\n",
            "  Downloading typing_extensions-3.7.4.3-py3-none-any.whl (22 kB)\n",
            "Collecting tensorboard~=2.5\n",
            "  Downloading tensorboard-2.8.0-py3-none-any.whl (5.8 MB)\n",
            "\u001b[K     |████████████████████████████████| 5.8 MB 9.9 MB/s eta 0:00:01\n",
            "\u001b[?25hCollecting keras-nightly~=2.5.0.dev\n",
            "  Downloading keras_nightly-2.5.0.dev2021032900-py2.py3-none-any.whl (1.2 MB)\n",
            "\u001b[K     |████████████████████████████████| 1.2 MB 9.4 MB/s eta 0:00:01\n",
            "\u001b[?25hCollecting protobuf>=3.9.2\n",
            "  Downloading protobuf-3.19.4-cp38-cp38-macosx_10_9_x86_64.whl (961 kB)\n",
            "\u001b[K     |████████████████████████████████| 961 kB 9.1 MB/s eta 0:00:01\n",
            "\u001b[?25hRequirement already satisfied: wheel~=0.35 in /Users/wonsiyeon/opt/anaconda3/envs/name/lib/python3.8/site-packages (from tensorflow==2.5.0->spleeter) (0.37.1)\n",
            "Collecting termcolor~=1.1.0\n",
            "  Downloading termcolor-1.1.0.tar.gz (3.9 kB)\n",
            "Collecting opt-einsum~=3.3.0\n",
            "  Downloading opt_einsum-3.3.0-py3-none-any.whl (65 kB)\n",
            "\u001b[K     |████████████████████████████████| 65 kB 9.3 MB/s  eta 0:00:01\n",
            "\u001b[?25hCollecting astunparse~=1.6.3\n",
            "  Downloading astunparse-1.6.3-py2.py3-none-any.whl (12 kB)\n",
            "Collecting flatbuffers~=1.12.0\n",
            "  Downloading flatbuffers-1.12-py2.py3-none-any.whl (15 kB)\n",
            "Collecting keras-preprocessing~=1.1.2\n",
            "  Downloading Keras_Preprocessing-1.1.2-py2.py3-none-any.whl (42 kB)\n",
            "\u001b[K     |████████████████████████████████| 42 kB 9.7 MB/s  eta 0:00:01\n",
            "\u001b[?25hCollecting wrapt~=1.12.1\n",
            "  Downloading wrapt-1.12.1.tar.gz (27 kB)\n",
            "Collecting tensorflow-estimator<2.6.0,>=2.5.0rc0\n",
            "  Downloading tensorflow_estimator-2.5.0-py2.py3-none-any.whl (462 kB)\n",
            "\u001b[K     |████████████████████████████████| 462 kB 25.3 MB/s eta 0:00:01\n",
            "\u001b[?25hCollecting absl-py~=0.10\n",
            "  Downloading absl_py-0.15.0-py3-none-any.whl (132 kB)\n",
            "\u001b[K     |████████████████████████████████| 132 kB 11.6 MB/s eta 0:00:01\n",
            "\u001b[?25hCollecting google-pasta~=0.2\n",
            "  Downloading google_pasta-0.2.0-py3-none-any.whl (57 kB)\n",
            "\u001b[K     |████████████████████████████████| 57 kB 7.5 MB/s eta 0:00:011\n",
            "\u001b[?25hCollecting grpcio~=1.34.0\n",
            "  Downloading grpcio-1.34.1-cp38-cp38-macosx_10_10_x86_64.whl (3.7 MB)\n",
            "\u001b[K     |████████████████████████████████| 3.7 MB 9.6 MB/s eta 0:00:01\n",
            "\u001b[?25hCollecting six~=1.15.0\n",
            "  Downloading six-1.15.0-py2.py3-none-any.whl (10 kB)\n",
            "Collecting h5py~=3.1.0\n",
            "  Downloading h5py-3.1.0-cp38-cp38-macosx_10_9_x86_64.whl (2.9 MB)\n",
            "\u001b[K     |████████████████████████████████| 2.9 MB 7.4 MB/s eta 0:00:01\n",
            "\u001b[?25hCollecting gast==0.4.0\n",
            "  Downloading gast-0.4.0-py3-none-any.whl (9.8 kB)\n",
            "Collecting rfc3986[idna2008]<2,>=1.3\n",
            "  Downloading rfc3986-1.5.0-py2.py3-none-any.whl (31 kB)\n",
            "Requirement already satisfied: charset-normalizer in /Users/wonsiyeon/opt/anaconda3/envs/name/lib/python3.8/site-packages (from httpx[http2]<0.20.0,>=0.19.0->spleeter) (2.0.12)\n",
            "Collecting httpcore<0.14.0,>=0.13.3\n",
            "  Downloading httpcore-0.13.7-py3-none-any.whl (58 kB)\n",
            "\u001b[K     |████████████████████████████████| 58 kB 14.0 MB/s eta 0:00:01\n",
            "\u001b[?25hCollecting sniffio\n",
            "  Downloading sniffio-1.2.0-py3-none-any.whl (10 kB)\n",
            "Requirement already satisfied: certifi in /Users/wonsiyeon/opt/anaconda3/envs/name/lib/python3.8/site-packages (from httpx[http2]<0.20.0,>=0.19.0->spleeter) (2021.10.8)\n",
            "Collecting h2<5,>=3\n",
            "  Downloading h2-4.1.0-py3-none-any.whl (57 kB)\n",
            "\u001b[K     |████████████████████████████████| 57 kB 28.8 MB/s eta 0:00:01\n",
            "\u001b[?25hCollecting hyperframe<7,>=6.0\n",
            "  Downloading hyperframe-6.0.1-py3-none-any.whl (12 kB)\n",
            "Collecting hpack<5,>=4.0\n",
            "  Downloading hpack-4.0.0-py3-none-any.whl (32 kB)\n",
            "Collecting anyio==3.*\n",
            "  Downloading anyio-3.5.0-py3-none-any.whl (79 kB)\n",
            "\u001b[K     |████████████████████████████████| 79 kB 14.3 MB/s eta 0:00:01\n",
            "\u001b[?25hCollecting h11<0.13,>=0.11\n",
            "  Downloading h11-0.12.0-py3-none-any.whl (54 kB)\n",
            "\u001b[K     |████████████████████████████████| 54 kB 10.3 MB/s eta 0:00:01\n",
            "\u001b[?25hRequirement already satisfied: idna>=2.8 in /Users/wonsiyeon/opt/anaconda3/envs/name/lib/python3.8/site-packages (from anyio==3.*->httpcore<0.14.0,>=0.13.3->httpx[http2]<0.20.0,>=0.19.0->spleeter) (3.3)\n",
            "Requirement already satisfied: setuptools in /Users/wonsiyeon/opt/anaconda3/envs/name/lib/python3.8/site-packages (from numba>=0.43.0->librosa==0.8.0->spleeter) (58.0.4)\n",
            "Collecting numba>=0.43.0\n",
            "  Downloading numba-0.55.0-cp38-cp38-macosx_10_14_x86_64.whl (2.3 MB)\n",
            "\u001b[K     |████████████████████████████████| 2.3 MB 32.9 MB/s eta 0:00:01\n",
            "\u001b[?25h  Downloading numba-0.54.1-cp38-cp38-macosx_10_14_x86_64.whl (2.3 MB)\n",
            "\u001b[K     |████████████████████████████████| 2.3 MB 8.4 MB/s eta 0:00:01\n",
            "\u001b[?25h  Downloading numba-0.54.0-cp38-cp38-macosx_10_14_x86_64.whl (2.3 MB)\n",
            "\u001b[K     |████████████████████████████████| 2.3 MB 9.0 MB/s eta 0:00:01\n",
            "\u001b[?25h  Downloading numba-0.53.1-cp38-cp38-macosx_10_14_x86_64.whl (2.2 MB)\n",
            "\u001b[K     |████████████████████████████████| 2.2 MB 11.9 MB/s eta 0:00:01\n",
            "\u001b[?25hRequirement already satisfied: pytz>=2020.1 in /Users/wonsiyeon/opt/anaconda3/envs/name/lib/python3.8/site-packages (from pandas<2.0.0,>=1.1.2->spleeter) (2021.3)\n",
            "Requirement already satisfied: python-dateutil>=2.8.1 in /Users/wonsiyeon/opt/anaconda3/envs/name/lib/python3.8/site-packages (from pandas<2.0.0,>=1.1.2->spleeter) (2.8.2)\n",
            "Requirement already satisfied: packaging>=20.0 in /Users/wonsiyeon/opt/anaconda3/envs/name/lib/python3.8/site-packages (from pooch>=1.0->librosa==0.8.0->spleeter) (21.3)\n",
            "Requirement already satisfied: requests>=2.19.0 in /Users/wonsiyeon/opt/anaconda3/envs/name/lib/python3.8/site-packages (from pooch>=1.0->librosa==0.8.0->spleeter) (2.27.1)\n",
            "Requirement already satisfied: appdirs>=1.3.0 in /Users/wonsiyeon/opt/anaconda3/envs/name/lib/python3.8/site-packages (from pooch>=1.0->librosa==0.8.0->spleeter) (1.4.4)\n",
            "Requirement already satisfied: pyparsing!=3.0.5,>=2.0.2 in /Users/wonsiyeon/opt/anaconda3/envs/name/lib/python3.8/site-packages (from packaging>=20.0->pooch>=1.0->librosa==0.8.0->spleeter) (3.0.4)\n",
            "Requirement already satisfied: urllib3<1.27,>=1.21.1 in /Users/wonsiyeon/opt/anaconda3/envs/name/lib/python3.8/site-packages (from requests>=2.19.0->pooch>=1.0->librosa==0.8.0->spleeter) (1.26.8)\n",
            "Requirement already satisfied: threadpoolctl>=2.0.0 in /Users/wonsiyeon/opt/anaconda3/envs/name/lib/python3.8/site-packages (from scikit-learn!=0.19.0,>=0.14.0->librosa==0.8.0->spleeter) (3.1.0)\n",
            "Requirement already satisfied: cffi>=1.0 in /Users/wonsiyeon/opt/anaconda3/envs/name/lib/python3.8/site-packages (from soundfile>=0.9.0->librosa==0.8.0->spleeter) (1.15.0)\n",
            "Requirement already satisfied: pycparser in /Users/wonsiyeon/opt/anaconda3/envs/name/lib/python3.8/site-packages (from cffi>=1.0->soundfile>=0.9.0->librosa==0.8.0->spleeter) (2.21)\n",
            "Collecting tensorboard-data-server<0.7.0,>=0.6.0\n",
            "  Downloading tensorboard_data_server-0.6.1-py3-none-macosx_10_9_x86_64.whl (3.5 MB)\n",
            "\u001b[K     |████████████████████████████████| 3.5 MB 9.8 MB/s eta 0:00:01\n",
            "\u001b[?25hCollecting werkzeug>=0.11.15\n",
            "  Downloading Werkzeug-2.0.3-py3-none-any.whl (289 kB)\n",
            "\u001b[K     |████████████████████████████████| 289 kB 6.5 MB/s eta 0:00:01\n",
            "\u001b[?25hCollecting google-auth-oauthlib<0.5,>=0.4.1\n",
            "  Downloading google_auth_oauthlib-0.4.6-py2.py3-none-any.whl (18 kB)\n",
            "Collecting google-auth<3,>=1.6.3\n",
            "  Downloading google_auth-2.6.0-py2.py3-none-any.whl (156 kB)\n",
            "\u001b[K     |████████████████████████████████| 156 kB 8.1 MB/s eta 0:00:01\n",
            "\u001b[?25hCollecting markdown>=2.6.8\n",
            "  Downloading Markdown-3.3.6-py3-none-any.whl (97 kB)\n",
            "\u001b[K     |████████████████████████████████| 97 kB 8.0 MB/s eta 0:00:011\n",
            "\u001b[?25hCollecting tensorboard-plugin-wit>=1.6.0\n",
            "  Downloading tensorboard_plugin_wit-1.8.1-py3-none-any.whl (781 kB)\n",
            "\u001b[K     |████████████████████████████████| 781 kB 13.6 MB/s eta 0:00:01\n",
            "\u001b[?25hCollecting pyasn1-modules>=0.2.1\n",
            "  Downloading pyasn1_modules-0.2.8-py2.py3-none-any.whl (155 kB)\n",
            "\u001b[K     |████████████████████████████████| 155 kB 11.5 MB/s eta 0:00:01\n",
            "\u001b[?25hCollecting rsa<5,>=3.1.4\n",
            "  Downloading rsa-4.8-py3-none-any.whl (39 kB)\n",
            "Collecting cachetools<6.0,>=2.0.0\n",
            "  Downloading cachetools-5.0.0-py3-none-any.whl (9.1 kB)\n",
            "Collecting requests-oauthlib>=0.7.0\n",
            "  Downloading requests_oauthlib-1.3.1-py2.py3-none-any.whl (23 kB)\n",
            "Collecting importlib-metadata>=4.4\n",
            "  Downloading importlib_metadata-4.11.2-py3-none-any.whl (17 kB)\n",
            "Collecting zipp>=0.5\n",
            "  Downloading zipp-3.7.0-py3-none-any.whl (5.3 kB)\n",
            "Collecting pyasn1<0.5.0,>=0.4.6\n",
            "  Downloading pyasn1-0.4.8-py2.py3-none-any.whl (77 kB)\n",
            "\u001b[K     |████████████████████████████████| 77 kB 5.3 MB/s eta 0:00:011\n",
            "\u001b[?25hCollecting oauthlib>=3.0.0\n",
            "  Downloading oauthlib-3.2.0-py3-none-any.whl (151 kB)\n",
            "\u001b[K     |████████████████████████████████| 151 kB 9.1 MB/s eta 0:00:01\n",
            "\u001b[?25hCollecting click<7.2.0,>=7.1.1\n",
            "  Downloading click-7.1.2-py2.py3-none-any.whl (82 kB)\n",
            "\u001b[K     |████████████████████████████████| 82 kB 6.4 MB/s  eta 0:00:01\n",
            "\u001b[?25hBuilding wheels for collected packages: librosa, termcolor, wrapt, future\n",
            "  Building wheel for librosa (setup.py) ... \u001b[?25ldone\n",
            "\u001b[?25h  Created wheel for librosa: filename=librosa-0.8.0-py3-none-any.whl size=201396 sha256=cbb677fa8ff4725aa955b820c68fcc4a5d94ee0e69c4aacb3c0f8529d0938b6a\n",
            "  Stored in directory: /Users/wonsiyeon/Library/Caches/pip/wheels/aa/5a/92/d52f6f8560ff05a2525e6030a1903412df876714241fb76802\n",
            "  Building wheel for termcolor (setup.py) ... \u001b[?25ldone\n",
            "\u001b[?25h  Created wheel for termcolor: filename=termcolor-1.1.0-py3-none-any.whl size=4848 sha256=c3a410f8a67a47d29494e320cb8d7b89558fb616432a6f7b32af14aa195c8a0a\n",
            "  Stored in directory: /Users/wonsiyeon/Library/Caches/pip/wheels/a0/16/9c/5473df82468f958445479c59e784896fa24f4a5fc024b0f501\n",
            "  Building wheel for wrapt (setup.py) ... \u001b[?25ldone\n",
            "\u001b[?25h  Created wheel for wrapt: filename=wrapt-1.12.1-cp38-cp38-macosx_10_9_x86_64.whl size=32793 sha256=749f4784a9374688952487bb96544a9b2a25e2f61d5a9c437ff39cd20c572fb4\n",
            "  Stored in directory: /Users/wonsiyeon/Library/Caches/pip/wheels/5f/fd/9e/b6cf5890494cb8ef0b5eaff72e5d55a70fb56316007d6dfe73\n",
            "  Building wheel for future (setup.py) ... \u001b[?25ldone\n",
            "\u001b[?25h  Created wheel for future: filename=future-0.18.2-py3-none-any.whl size=491070 sha256=771b5339e54188b88e4934ee18bf0e41ddfbc49016374815e9cfdcb94bd035ce\n",
            "  Stored in directory: /Users/wonsiyeon/Library/Caches/pip/wheels/8e/70/28/3d6ccd6e315f65f245da085482a2e1c7d14b90b30f239e2cf4\n",
            "Successfully built librosa termcolor wrapt future\n",
            "Installing collected packages: pyasn1, zipp, sniffio, six, rsa, pyasn1-modules, oauthlib, cachetools, rfc3986, requests-oauthlib, numpy, llvmlite, importlib-metadata, h11, google-auth, anyio, werkzeug, tensorboard-plugin-wit, tensorboard-data-server, protobuf, numba, markdown, hyperframe, httpcore, hpack, grpcio, google-auth-oauthlib, absl-py, wrapt, typing-extensions, termcolor, tensorflow-estimator, tensorboard, opt-einsum, keras-preprocessing, keras-nightly, httpx, h5py, h2, google-pasta, gast, future, flatbuffers, click, astunparse, typer, tensorflow, norbert, librosa, ffmpeg-python, spleeter\n",
            "  Attempting uninstall: six\n",
            "    Found existing installation: six 1.16.0\n",
            "    Uninstalling six-1.16.0:\n",
            "      Successfully uninstalled six-1.16.0\n",
            "  Attempting uninstall: numpy\n",
            "    Found existing installation: numpy 1.21.2\n",
            "    Uninstalling numpy-1.21.2:\n",
            "      Successfully uninstalled numpy-1.21.2\n",
            "  Attempting uninstall: llvmlite\n",
            "    Found existing installation: llvmlite 0.38.0\n",
            "    Uninstalling llvmlite-0.38.0:\n",
            "      Successfully uninstalled llvmlite-0.38.0\n",
            "  Attempting uninstall: numba\n",
            "    Found existing installation: numba 0.55.1\n",
            "    Uninstalling numba-0.55.1:\n",
            "      Successfully uninstalled numba-0.55.1\n",
            "  Attempting uninstall: typing-extensions\n",
            "    Found existing installation: typing-extensions 4.1.1\n",
            "    Uninstalling typing-extensions-4.1.1:\n",
            "      Successfully uninstalled typing-extensions-4.1.1\n",
            "  Attempting uninstall: click\n",
            "    Found existing installation: click 8.0.4\n",
            "    Uninstalling click-8.0.4:\n",
            "      Successfully uninstalled click-8.0.4\n",
            "  Attempting uninstall: librosa\n",
            "    Found existing installation: librosa 0.9.1\n",
            "    Uninstalling librosa-0.9.1:\n",
            "      Successfully uninstalled librosa-0.9.1\n",
            "\u001b[31mERROR: pip's dependency resolver does not currently take into account all the packages that are installed. This behaviour is the source of the following dependency conflicts.\n",
            "black 22.1.0 requires click>=8.0.0, but you have click 7.1.2 which is incompatible.\n",
            "black 22.1.0 requires typing-extensions>=3.10.0.0; python_version < \"3.10\", but you have typing-extensions 3.7.4.3 which is incompatible.\u001b[0m\n",
            "Successfully installed absl-py-0.15.0 anyio-3.5.0 astunparse-1.6.3 cachetools-5.0.0 click-7.1.2 ffmpeg-python-0.2.0 flatbuffers-1.12 future-0.18.2 gast-0.4.0 google-auth-2.6.0 google-auth-oauthlib-0.4.6 google-pasta-0.2.0 grpcio-1.34.1 h11-0.12.0 h2-4.1.0 h5py-3.1.0 hpack-4.0.0 httpcore-0.13.7 httpx-0.19.0 hyperframe-6.0.1 importlib-metadata-4.11.2 keras-nightly-2.5.0.dev2021032900 keras-preprocessing-1.1.2 librosa-0.8.0 llvmlite-0.36.0 markdown-3.3.6 norbert-0.2.1 numba-0.53.1 numpy-1.19.5 oauthlib-3.2.0 opt-einsum-3.3.0 protobuf-3.19.4 pyasn1-0.4.8 pyasn1-modules-0.2.8 requests-oauthlib-1.3.1 rfc3986-1.5.0 rsa-4.8 six-1.15.0 sniffio-1.2.0 spleeter-2.3.0 tensorboard-2.8.0 tensorboard-data-server-0.6.1 tensorboard-plugin-wit-1.8.1 tensorflow-2.5.0 tensorflow-estimator-2.5.0 termcolor-1.1.0 typer-0.3.2 typing-extensions-3.7.4.3 werkzeug-2.0.3 wrapt-1.12.1 zipp-3.7.0\n"
          ]
        }
      ],
      "source": [
        "! pip install spleeter"
      ]
    },
    {
      "cell_type": "code",
      "execution_count": 43,
      "metadata": {
        "colab": {
          "base_uri": "https://localhost:8080/"
        },
        "id": "HR6GcWzYOUYR",
        "outputId": "88f0b653-8dce-447a-8e57-b31461bd967f"
      },
      "outputs": [
        {
          "name": "stdout",
          "output_type": "stream",
          "text": [
            "Usage: spleeter separate [OPTIONS] FILES...\n",
            "Try 'spleeter separate --help' for help.\n",
            "\n",
            "Error: Invalid value for 'FILES...': File 'Don’tTrustTheDawn.mp3' does not exist.\n"
          ]
        }
      ],
      "source": [
        "!spleeter separate -o output/ \"Don’tTrustTheDawn.mp3\""
      ]
    },
    {
      "cell_type": "markdown",
      "metadata": {
        "id": "m3Uav2t2SqYf"
      },
      "source": [
        "- 실제 구현시에는 여러 파일을 가져와야 하기 때문에, 파일 경로 읽고 변수에 인덱스 붙이는 과정을 for문으로 구현하기"
      ]
    },
    {
      "cell_type": "markdown",
      "metadata": {
        "id": "ce0KG75EaviO"
      },
      "source": [
        "## librosa에 음원 로드하기\n",
        "- accompaniment.wav 파일만 가져오기\n",
        "- `librosa.load(filename)`"
      ]
    },
    {
      "cell_type": "code",
      "execution_count": null,
      "metadata": {
        "id": "C95Xylr7a5g5"
      },
      "outputs": [],
      "source": []
    },
    {
      "cell_type": "markdown",
      "metadata": {
        "id": "qseh6noabMRp"
      },
      "source": [
        "## 주파수 변환하기\n",
        "- stft\n",
        "- mel-spectrogram"
      ]
    },
    {
      "cell_type": "code",
      "execution_count": null,
      "metadata": {
        "id": "KhXul8PWlEZ_"
      },
      "outputs": [],
      "source": []
    },
    {
      "cell_type": "markdown",
      "metadata": {
        "id": "9YqYp-MflS9u"
      },
      "source": [
        "## 오디오 피쳐 (audio features) 추출하기\n",
        "- librosa.feature.chroma_stft()\n",
        "- librosa.feature.rms()\n",
        "- librosa.feature.spectral_centroid()\n",
        "- librosa.feature.spectral_bandwidth()\n",
        "- librosa.feature.spectral_rolloff()\n",
        "- librosa.feature.zero_crossing_rate()\n",
        "- librosa.effects.hpss() ; harmony, perceptrual\n",
        "- librosa.beat.beat_track() ; tempo\n",
        "- librosa.feature.mfcc()\n",
        "> 음원 작게 만들어서 데이터 부풀리기 !"
      ]
    },
    {
      "cell_type": "code",
      "execution_count": null,
      "metadata": {
        "id": "Gc65QTTv70Qs"
      },
      "outputs": [],
      "source": []
    },
    {
      "cell_type": "markdown",
      "metadata": {
        "id": "WeMyIN0f73wD"
      },
      "source": [
        "## 훈련/테스트/검증데이터셋 나누기\n",
        "- 모든 음원 길이 동일하게 맞추기\n",
        "    - 아마 3-10초 사이가 될듯(이건 더 알아보고 정하기)\n",
        "- Sampling rate 동일하게 맞추기\n",
        "> total samples = 음원 길이 * sr "
      ]
    },
    {
      "cell_type": "code",
      "execution_count": null,
      "metadata": {
        "id": "Vmr5HCUl79jn"
      },
      "outputs": [],
      "source": []
    },
    {
      "cell_type": "markdown",
      "metadata": {
        "id": "GrvgUcIL8AF9"
      },
      "source": [
        "## 최적화된 모델 찾기"
      ]
    },
    {
      "cell_type": "code",
      "execution_count": null,
      "metadata": {
        "id": "Hq7itFa88CUa"
      },
      "outputs": [],
      "source": []
    }
  ],
  "metadata": {
    "colab": {
      "collapsed_sections": [],
      "name": "모델 구상 2.ipynb",
      "provenance": []
    },
    "kernelspec": {
      "display_name": "Python 3",
      "name": "python3"
    },
    "language_info": {
      "codemirror_mode": {
        "name": "ipython",
        "version": 3
      },
      "file_extension": ".py",
      "mimetype": "text/x-python",
      "name": "python",
      "nbconvert_exporter": "python",
      "pygments_lexer": "ipython3",
      "version": "3.8.8"
    }
  },
  "nbformat": 4,
  "nbformat_minor": 0
}
