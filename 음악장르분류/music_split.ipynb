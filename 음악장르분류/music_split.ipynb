{
  "nbformat": 4,
  "nbformat_minor": 0,
  "metadata": {
    "colab": {
      "name": "음원 분리 코드.ipynb",
      "provenance": [],
      "collapsed_sections": []
    },
    "kernelspec": {
      "name": "python3",
      "display_name": "Python 3"
    },
    "language_info": {
      "name": "python"
    }
  },
  "cells": [
    {
      "cell_type": "code",
      "execution_count": null,
      "metadata": {
        "id": "AFoBUQlrjF3V"
      },
      "outputs": [],
      "source": [
        "import os\n",
        "\n",
        "general_path = \"/content/drive/Othercomputers/내 MacBook Air/음악파일\"\n",
        "\n",
        "def song_names(general_path):\n",
        "    files = list(os.listdir(f'{general_path}'))\n",
        "    return files    # filename"
      ]
    },
    {
      "cell_type": "code",
      "source": [
        "filename = song_names(general_path)"
      ],
      "metadata": {
        "id": "P_KaDWwIjnnH"
      },
      "execution_count": null,
      "outputs": []
    },
    {
      "cell_type": "code",
      "source": [
        "filename"
      ],
      "metadata": {
        "colab": {
          "base_uri": "https://localhost:8080/"
        },
        "id": "peH5j7pPk9wL",
        "outputId": "c37ec3dc-6752-42f2-f329-5de1d11edbfd"
      },
      "execution_count": null,
      "outputs": [
        {
          "output_type": "execute_result",
          "data": {
            "text/plain": [
              "['goodmorning.mp3',\n",
              " 'donttrustthedawn.mp3',\n",
              " 'goodbye.mp3',\n",
              " 'timelapse.mp3',\n",
              " 'wildflower.mp3']"
            ]
          },
          "metadata": {},
          "execution_count": 11
        }
      ]
    },
    {
      "cell_type": "code",
      "source": [
        "#def load_song(filename):\n",
        "#    song = f'{filename} : {general_path}/{filename}'\n",
        "#    return song"
      ],
      "metadata": {
        "id": "Fqq8KI1-jNCc"
      },
      "execution_count": null,
      "outputs": []
    },
    {
      "cell_type": "code",
      "source": [
        "def load_song(filename):\n",
        "    song = f'{filename}'\n",
        "    path = f'{general_path}/{filename}'\n",
        "    return song, path"
      ],
      "metadata": {
        "id": "xPj9hDklks5p"
      },
      "execution_count": null,
      "outputs": []
    },
    {
      "cell_type": "code",
      "source": [
        "song, path = load_song(filename[0])\n",
        "song, path"
      ],
      "metadata": {
        "colab": {
          "base_uri": "https://localhost:8080/"
        },
        "id": "mlxtzunzk3ir",
        "outputId": "d38ddf2c-2716-42ac-bb17-406e9b327437"
      },
      "execution_count": null,
      "outputs": [
        {
          "output_type": "execute_result",
          "data": {
            "text/plain": [
              "('goodmorning.mp3',\n",
              " '/content/drive/Othercomputers/내 MacBook Air/음악파일/goodmorning.mp3')"
            ]
          },
          "metadata": {},
          "execution_count": 37
        }
      ]
    },
    {
      "cell_type": "code",
      "source": [
        "songs = []\n",
        "paths = []\n",
        "\n",
        "for file in filename:\n",
        "    song, path = load_song(file)\n",
        "    songs.append(song)\n",
        "    paths.append(path)"
      ],
      "metadata": {
        "id": "IX1ZaxR5lfJc"
      },
      "execution_count": null,
      "outputs": []
    },
    {
      "cell_type": "code",
      "source": [
        "songs"
      ],
      "metadata": {
        "colab": {
          "base_uri": "https://localhost:8080/"
        },
        "id": "tJ1ILgmGnlWk",
        "outputId": "86f36ac1-ebdd-42a1-f344-0222307230ef"
      },
      "execution_count": null,
      "outputs": [
        {
          "output_type": "execute_result",
          "data": {
            "text/plain": [
              "['goodmorning.mp3',\n",
              " 'donttrustthedawn.mp3',\n",
              " 'goodbye.mp3',\n",
              " 'timelapse.mp3',\n",
              " 'wildflower.mp3']"
            ]
          },
          "metadata": {},
          "execution_count": 41
        }
      ]
    },
    {
      "cell_type": "code",
      "source": [
        "paths"
      ],
      "metadata": {
        "colab": {
          "base_uri": "https://localhost:8080/"
        },
        "id": "TAcNCQjpnm78",
        "outputId": "04315177-d0e0-41c0-8c7f-335dc145eed4"
      },
      "execution_count": null,
      "outputs": [
        {
          "output_type": "execute_result",
          "data": {
            "text/plain": [
              "['/content/drive/Othercomputers/내 MacBook Air/음악파일/goodmorning.mp3',\n",
              " '/content/drive/Othercomputers/내 MacBook Air/음악파일/donttrustthedawn.mp3',\n",
              " '/content/drive/Othercomputers/내 MacBook Air/음악파일/goodbye.mp3',\n",
              " '/content/drive/Othercomputers/내 MacBook Air/음악파일/timelapse.mp3',\n",
              " '/content/drive/Othercomputers/내 MacBook Air/음악파일/wildflower.mp3']"
            ]
          },
          "metadata": {},
          "execution_count": 42
        }
      ]
    },
    {
      "cell_type": "code",
      "source": [
        ""
      ],
      "metadata": {
        "id": "k08EO-GWn5Yi"
      },
      "execution_count": null,
      "outputs": []
    }
  ]
}